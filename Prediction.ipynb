{
 "cells": [
  {
   "cell_type": "markdown",
   "metadata": {},
   "source": [
    "Source for code: https://towardsdatascience.com/a-beginners-guide-to-linear-regression-in-python-with-scikit-learn-83a8f7ae2b4f"
   ]
  },
  {
   "cell_type": "code",
   "execution_count": null,
   "metadata": {},
   "outputs": [],
   "source": [
    "import pandas as pd  \n",
    "import numpy as np  \n",
    "import matplotlib.pyplot as plt  \n",
    "import seaborn as seabornInstance \n",
    "from sklearn.model_selection import train_test_split \n",
    "from sklearn.linear_model import LinearRegression\n",
    "from sklearn import metrics\n",
    "%matplotlib inline"
   ]
  },
  {
   "cell_type": "code",
   "execution_count": 4,
   "metadata": {},
   "outputs": [],
   "source": [
    "#Read in our data\n",
    "returns=pd.read_csv('returns.csv')\n",
    "etfs_mfs=pd.read_csv('ETFs+MFs.csv')"
   ]
  },
  {
   "cell_type": "code",
   "execution_count": 6,
   "metadata": {},
   "outputs": [
    {
     "name": "stdout",
     "output_type": "stream",
     "text": [
      "   Unnamed: 0 fund_name                 fund_extended_name category  \\\n",
      "0           0      1305                    Daiwa ETF TOPIX      NaN   \n",
      "1           1      1306                   Nomura TOPIX ETF      NaN   \n",
      "2           2      1308  Nikko Exchange Traded Index TOPIX      NaN   \n",
      "3           3      1309        Nomura SSE50 Index Link ETF      NaN   \n",
      "4           4      1310            Daiwa ETF TOPIX Core 30      NaN   \n",
      "\n",
      "                      fund_family    net_assets  ytd_return  fund_yield  \\\n",
      "0   Daiwa Asset Management Co Ltd  4.010000e+12         NaN        1.84   \n",
      "1  Nomura Asset Management Co Ltd  8.430000e+12         NaN        1.77   \n",
      "2   Nikko Asset Management Co Ltd  3.730000e+12         NaN        1.84   \n",
      "3  Nomura Asset Management Co Ltd  4.450000e+09         NaN        0.00   \n",
      "4   Daiwa Asset Management Co Ltd  1.920000e+09         NaN        2.57   \n",
      "\n",
      "             legal_type investment  ... fund_sharpe_ratio_5years  \\\n",
      "0  Exchange Traded Fund      Blend  ...                     0.59   \n",
      "1  Exchange Traded Fund      Blend  ...                     0.59   \n",
      "2  Exchange Traded Fund      Blend  ...                     0.59   \n",
      "3  Exchange Traded Fund      Value  ...                     0.36   \n",
      "4  Exchange Traded Fund      Blend  ...                     0.34   \n",
      "\n",
      "  category_sharpe_ratio_5years  fund_sharpe_ratio_10years  \\\n",
      "0                          NaN                       0.60   \n",
      "1                          NaN                       0.61   \n",
      "2                          NaN                       0.60   \n",
      "3                          NaN                       0.26   \n",
      "4                          NaN                       0.44   \n",
      "\n",
      "   category_sharpe_ratio_10years  fund_treynor_ratio_3years  \\\n",
      "0                            NaN                       3.92   \n",
      "1                            NaN                       3.94   \n",
      "2                            NaN                       3.93   \n",
      "3                            NaN                      -4.41   \n",
      "4                            NaN                          1   \n",
      "\n",
      "   category_treynor_ratio_3years  fund_treynor_ratio_5years  \\\n",
      "0                            NaN                       8.01   \n",
      "1                            NaN                       8.03   \n",
      "2                            NaN                       8.03   \n",
      "3                            NaN                       6.32   \n",
      "4                            NaN                       4.08   \n",
      "\n",
      "   category_treynor_ratio_5years  fund_treynor_ratio_10years  \\\n",
      "0                            NaN                        9.29   \n",
      "1                            NaN                        9.33   \n",
      "2                            NaN                        9.31   \n",
      "3                            NaN                        4.29   \n",
      "4                            NaN                        6.18   \n",
      "\n",
      "   category_treynor_ratio_10years  \n",
      "0                             NaN  \n",
      "1                             NaN  \n",
      "2                             NaN  \n",
      "3                             NaN  \n",
      "4                             NaN  \n",
      "\n",
      "[5 rows x 105 columns]\n"
     ]
    }
   ],
   "source": [
    "print(etfs_mfs.head())\n"
   ]
  },
  {
   "cell_type": "code",
   "execution_count": 7,
   "metadata": {},
   "outputs": [
    {
     "name": "stdout",
     "output_type": "stream",
     "text": [
      "         Unnamed: 0    net_assets    ytd_return    fund_yield  \\\n",
      "count  27660.000000  2.751900e+04  27314.000000  27514.000000   \n",
      "mean   11677.496529  4.942567e+09      9.425839      1.874391   \n",
      "std     7689.429018  8.689170e+10      7.066376      1.834453   \n",
      "min        0.000000  1.916000e+04    -73.090000      0.000000   \n",
      "25%     4562.750000  8.104000e+07      4.430000      0.490000   \n",
      "50%    11477.500000  4.088300e+08      9.950000      1.670000   \n",
      "75%    18392.250000  1.570000e+09     13.327500      2.660000   \n",
      "max    25307.000000  8.430000e+12    161.530000     45.360000   \n",
      "\n",
      "       net_annual_expense_ratio_fund  net_annual_expense_ratio_category  \\\n",
      "count                   27660.000000                       27140.000000   \n",
      "mean                        1.068800                           0.981526   \n",
      "std                         0.619694                           0.344462   \n",
      "min                         0.000000                           0.000000   \n",
      "25%                         0.660000                           0.770000   \n",
      "50%                         0.970000                           1.010000   \n",
      "75%                         1.390000                           1.150000   \n",
      "max                        15.170000                           2.600000   \n",
      "\n",
      "       portfolio_stocks  portfolio_bonds  price_earnings    price_book  ...  \\\n",
      "count      27541.000000     27541.000000    27541.000000  27541.000000  ...   \n",
      "mean          59.550999        29.404354       13.257817      1.817745  ...   \n",
      "std           42.582016        38.495993       44.331884      2.869379  ...   \n",
      "min            0.000000         0.000000        0.000000      0.000000  ...   \n",
      "25%            0.350000         0.000000        3.650000      0.270000  ...   \n",
      "50%           85.000000         0.100000       13.850000      1.820000  ...   \n",
      "75%           97.890000        60.350000       16.430000      2.360000  ...   \n",
      "max          100.000000       100.000000     1694.920000    123.300000  ...   \n",
      "\n",
      "       fund_sharpe_ratio_3years  category_sharpe_ratio_3years  \\\n",
      "count              25890.000000                  26651.000000   \n",
      "mean                   0.655773                      0.034862   \n",
      "std                    0.480210                      0.173201   \n",
      "min                   -6.980000                     -0.980000   \n",
      "25%                    0.400000                      0.000000   \n",
      "50%                    0.710000                      0.010000   \n",
      "75%                    0.960000                      0.010000   \n",
      "max                    4.160000                      2.710000   \n",
      "\n",
      "       fund_sharpe_ratio_5years  category_sharpe_ratio_5years  \\\n",
      "count              23576.000000                  26639.000000   \n",
      "mean                   0.488400                      0.046387   \n",
      "std                    0.386399                      0.209524   \n",
      "min                   -5.990000                     -1.250000   \n",
      "25%                    0.280000                      0.000000   \n",
      "50%                    0.540000                      0.010000   \n",
      "75%                    0.720000                      0.010000   \n",
      "max                    3.220000                      1.620000   \n",
      "\n",
      "       fund_sharpe_ratio_10years  category_sharpe_ratio_10years  \\\n",
      "count               18635.000000                   26331.000000   \n",
      "mean                    0.858801                       0.024200   \n",
      "std                     0.422683                       0.085227   \n",
      "min                    -6.580000                      -0.360000   \n",
      "25%                     0.700000                       0.010000   \n",
      "50%                     0.940000                       0.010000   \n",
      "75%                     1.100000                       0.010000   \n",
      "max                     3.010000                       1.150000   \n",
      "\n",
      "       category_treynor_ratio_3years  fund_treynor_ratio_5years  \\\n",
      "count                   26651.000000               23576.000000   \n",
      "mean                        0.288604                   4.072797   \n",
      "std                         5.347411                  25.860407   \n",
      "min                      -240.930000               -2598.300000   \n",
      "25%                         0.050000                   1.840000   \n",
      "50%                         0.060000                   3.910000   \n",
      "75%                         0.100000                   6.890000   \n",
      "max                        52.260000                1182.350000   \n",
      "\n",
      "       fund_treynor_ratio_10years  category_treynor_ratio_10years  \n",
      "count                18635.000000                    26331.000000  \n",
      "mean                     9.363779                        0.315498  \n",
      "std                    136.505269                        1.343696  \n",
      "min                  -4448.680000                      -11.940000  \n",
      "25%                      4.910000                        0.070000  \n",
      "50%                      9.620000                        0.100000  \n",
      "75%                     13.580000                        0.140000  \n",
      "max                  10351.240000                       15.820000  \n",
      "\n",
      "[8 rows x 95 columns]\n"
     ]
    }
   ],
   "source": [
    "print(etfs_mfs.describe())"
   ]
  },
  {
   "cell_type": "code",
   "execution_count": 8,
   "metadata": {},
   "outputs": [],
   "source": [
    "#Typically we either drop the rows with NA or replace them with other values\n",
    "etf_mfs_clean=etfs_mfs.dropna()"
   ]
  },
  {
   "cell_type": "code",
   "execution_count": 9,
   "metadata": {},
   "outputs": [
    {
     "data": {
      "text/plain": [
       "Index(['Unnamed: 0', 'fund_name', 'fund_extended_name', 'category',\n",
       "       'fund_family', 'net_assets', 'ytd_return', 'fund_yield', 'legal_type',\n",
       "       'investment',\n",
       "       ...\n",
       "       'fund_sharpe_ratio_5years', 'category_sharpe_ratio_5years',\n",
       "       'fund_sharpe_ratio_10years', 'category_sharpe_ratio_10years',\n",
       "       'fund_treynor_ratio_3years', 'category_treynor_ratio_3years',\n",
       "       'fund_treynor_ratio_5years', 'category_treynor_ratio_5years',\n",
       "       'fund_treynor_ratio_10years', 'category_treynor_ratio_10years'],\n",
       "      dtype='object', length=105)"
      ]
     },
     "execution_count": 9,
     "metadata": {},
     "output_type": "execute_result"
    }
   ],
   "source": [
    "#All the columns of the dataset are possible predictors\n",
    "etf_mfs_clean.columns"
   ]
  },
  {
   "cell_type": "markdown",
   "metadata": {},
   "source": [
    "**Simple Linear Regression**"
   ]
  },
  {
   "cell_type": "code",
   "execution_count": null,
   "metadata": {},
   "outputs": [],
   "source": [
    "# Linear regression involves fitting a line to the data with the form y = mX + b. \n",
    "# We use the independent variable X to predict the dependent variable y.\n",
    "\n",
    "X = etf_mfs_clean['FILL ME IN'].values.reshape(-1,1)\n",
    "y = etf_mfs_clean['FILL ME IN'].values.reshape(-1,1)\n",
    "\n",
    "# Creating the training and testing set\n",
    "X_train, X_test, y_train, y_test = train_test_split(X, y, test_size=0.2, random_state=0)\n",
    "\n",
    "# Creating our model. Feel free to experiment with other types of models!\n",
    "regressor = LinearRegression()\n",
    "\n",
    "# Training the algorithm. \n",
    "regressor.fit(X_train, y_train) \n",
    "\n",
    "# Predicting the Y values based on the X_test set that we 'saved.' \n",
    "y_pred = regressor.predict(X_test)\n",
    "\n",
    "# Comparing the Actual to the Predicted\n",
    "df = pd.DataFrame({'Actual': y_test.flatten(), 'Predicted': y_pred.flatten()})\n",
    "df"
   ]
  },
  {
   "cell_type": "code",
   "execution_count": 144,
   "metadata": {},
   "outputs": [
    {
     "data": {
      "image/png": "[encoded data removed]",
      "text/plain": [
       "<Figure size 1152x720 with 1 Axes>"
      ]
     },
     "metadata": {
      "needs_background": "light"
     },
     "output_type": "display_data"
    }
   ],
   "source": [
    "# We can plot the actual vs predicted values to see how we did visually.\n",
    "df1 = df.head(25)\n",
    "df1.plot(kind='bar',figsize=(16,10))\n",
    "plt.grid(which='major', linestyle='-', linewidth='0.5', color='green')\n",
    "plt.grid(which='minor', linestyle=':', linewidth='0.5', color='black')\n",
    "plt.show()   "
   ]
  },
  {
   "cell_type": "code",
   "execution_count": 145,
   "metadata": {},
   "outputs": [
    {
     "data": {
      "image/png": "[encoded data removed]",
      "text/plain": [
       "<Figure size 432x288 with 1 Axes>"
      ]
     },
     "metadata": {
      "needs_background": "light"
     },
     "output_type": "display_data"
    }
   ],
   "source": [
    "#Here we compare our predicted linear model (the red line) to the dataset (grey scatter plot). \n",
    "# How does it look? Would a different model (logistic, quadratic, etc) fit the data better? \n",
    "# Is there even a relationship to plot? Should we look at different dependent variables?\n",
    "plt.scatter(X_test, y_test,  color='gray')\n",
    "plt.plot(X_test, y_pred, color='red', linewidth=2)\n",
    "plt.show()"
   ]
  },
  {
   "cell_type": "code",
   "execution_count": 146,
   "metadata": {},
   "outputs": [
    {
     "name": "stdout",
     "output_type": "stream",
     "text": [
      "Mean Absolute Error: 4.502833579183225\n",
      "Mean Squared Error: 31.23610324514389\n",
      "Root Mean Squared Error: 5.588926841992467\n"
     ]
    }
   ],
   "source": [
    "# Here, we look at some numeric measures to evaluate how good our prediction was. \n",
    "# We recommend looking up these metrics to better understand what they mean.\n",
    "print('Mean Absolute Error:', metrics.mean_absolute_error(y_test, y_pred))  \n",
    "print('Mean Squared Error:', metrics.mean_squared_error(y_test, y_pred))  \n",
    "print('Root Mean Squared Error:', np.sqrt(metrics.mean_squared_error(y_test, y_pred)))"
   ]
  },
  {
   "cell_type": "markdown",
   "metadata": {},
   "source": [
    "**Multiple Linear Regression**"
   ]
  },
  {
   "cell_type": "code",
   "execution_count": 156,
   "metadata": {},
   "outputs": [],
   "source": [
    "# Here, we try to fit a linear equation to the data that has multiple dependent variables.\n",
    "# The equation takes the form y = m1X1 + m2X2 + ... + b\n",
    "\n",
    "# Define the dependent variables we are going to use to predict y. HINT: what columns do you think \n",
    "# would have predictive power?\n",
    "X = etf_mfs_clean[['COL_1', 'COL_2', 'etc']].values\n",
    "y = etf_mfs_clean['ytd_return'].values\n",
    "\n",
    "# Same process as before.\n",
    "X_train, X_test, y_train, y_test = train_test_split(X, y, test_size=0.2, random_state=0)\n",
    "regressor = LinearRegression()  \n",
    "regressor.fit(X_train, y_train)\n",
    "y_pred = regressor.predict(X_test)"
   ]
  },
  {
   "cell_type": "code",
   "execution_count": null,
   "metadata": {},
   "outputs": [],
   "source": [
    "# Again, here we compare the actual to the predicted result. How did we do? Any better?\n",
    "df = pd.DataFrame({'Actual': y_test, 'Predicted': y_pred})\n",
    "df1 = df.head(25)"
   ]
  },
  {
   "cell_type": "code",
   "execution_count": null,
   "metadata": {},
   "outputs": [],
   "source": [
    "df1.plot(kind='bar',figsize=(10,8))\n",
    "plt.grid(which='major', linestyle='-', linewidth='0.5', color='green')\n",
    "plt.grid(which='minor', linestyle=':', linewidth='0.5', color='black')\n",
    "plt.show()"
   ]
  },
  {
   "cell_type": "code",
   "execution_count": null,
   "metadata": {},
   "outputs": [],
   "source": [
    "print('Mean Absolute Error:', metrics.mean_absolute_error(y_test, y_pred))  \n",
    "print('Mean Squared Error:', metrics.mean_squared_error(y_test, y_pred))  \n",
    "print('Root Mean Squared Error:', np.sqrt(metrics.mean_squared_error(y_test, y_pred)))"
   ]
  },
  {
   "cell_type": "markdown",
   "metadata": {},
   "source": [
    "There are generally two ways to improve your predictive power.\n",
    "\n",
    "(1) Change the model. Maybe linear regression doesn't make sense here. We recommend you check out [https://towardsdatascience.com/predictive-modeling-picking-the-best-model-69ad407e1ee7] for a brief introduction to different predictive models. Once you have some background information, most of these are as easy to use as writing regressor = LinearRegression().\n",
    "\n",
    "(2) Change your data. Maybe the features you are looking at don't have predictive power and you should choose other dependent variables. Maybe your dataset is too narrow or too broad. Maybe there is 'noise' in your data. Remember, we 'cleaned' the data by dropping the NaN values. What are other ways we could clean the data? Could we remove outliers, apply transformations to the data, or create new features?\n",
    "\n",
    "What can you do to make a better, more interesting, or more useful predictive model? At BlackRock, we think about that challenge every day -- and you can, too, beginning with improving your linear regression and moving onto more complex ideas. We're excited to see what you come up with! This is just a small example of how we combine our financial knowledge with analytics and programming to drive insights that can be useful to our clients."
   ]
  },
  {
   "cell_type": "markdown",
   "metadata": {},
   "source": []
  }
 ],
 "metadata": {
  "kernelspec": {
   "display_name": "Python 3",
   "language": "python",
   "name": "python3"
  },
  "language_info": {
   "codemirror_mode": {
    "name": "ipython",
    "version": 3
   },
   "file_extension": ".py",
   "mimetype": "text/x-python",
   "name": "python",
   "nbconvert_exporter": "python",
   "pygments_lexer": "ipython3",
   "version": "3.6.7"
  }
 },
 "nbformat": 4,
 "nbformat_minor": 2
}
