{
 "cells": [
  {
   "cell_type": "code",
   "execution_count": 2,
   "metadata": {
    "collapsed": false
   },
   "outputs": [
   ],
   "source": [
    "import pandas as pd\n",
    "import numpy as np\n",
    "\n",
    "import plotly as py\n",
    "import plotly.figure_factory as ff\n",
    "import plotly.graph_objs as go\n",
    "import matplotlib\n",
    "import matplotlib.pyplot as plt"
   ]
  },
  {
   "cell_type": "code",
   "execution_count": 3,
   "metadata": {
    "collapsed": false
   },
   "outputs": [
    {
     "name": "stderr",
     "output_type": "stream",
     "text": [
      "/usr/local/lib/python3.6/dist-packages/IPython/core/interactiveshell.py:3058: DtypeWarning:\n",
      "\n",
      "Columns (99,102) have mixed types. Specify dtype option on import or set low_memory=False.\n",
      "\n"
     ]
    },
    {
     "data": {
      "text/html": [
       "<div>\n",
       "<style scoped>\n",
       "    .dataframe tbody tr th:only-of-type {\n",
       "        vertical-align: middle;\n",
       "    }\n",
       "\n",
       "    .dataframe tbody tr th {\n",
       "        vertical-align: top;\n",
       "    }\n",
       "\n",
       "    .dataframe thead th {\n",
       "        text-align: right;\n",
       "    }\n",
       "</style>\n",
       "<table border=\"1\" class=\"dataframe\">\n",
       "  <thead>\n",
       "    <tr style=\"text-align: right;\">\n",
       "      <th></th>\n",
       "      <th>fund_name</th>\n",
       "      <th>fund_extended_name</th>\n",
       "      <th>category</th>\n",
       "      <th>fund_family</th>\n",
       "      <th>net_assets</th>\n",
       "      <th>ytd_return</th>\n",
       "      <th>fund_yield</th>\n",
       "      <th>legal_type</th>\n",
       "      <th>investment</th>\n",
       "      <th>size</th>\n",
       "      <th>...</th>\n",
       "      <th>fund_sharpe_ratio_5years</th>\n",
       "      <th>category_sharpe_ratio_5years</th>\n",
       "      <th>fund_sharpe_ratio_10years</th>\n",
       "      <th>category_sharpe_ratio_10years</th>\n",
       "      <th>fund_treynor_ratio_3years</th>\n",
       "      <th>category_treynor_ratio_3years</th>\n",
       "      <th>fund_treynor_ratio_5years</th>\n",
       "      <th>category_treynor_ratio_5years</th>\n",
       "      <th>fund_treynor_ratio_10years</th>\n",
       "      <th>category_treynor_ratio_10years</th>\n",
       "    </tr>\n",
       "  </thead>\n",
       "  <tbody>\n",
       "    <tr>\n",
       "      <td>0</td>\n",
       "      <td>1305</td>\n",
       "      <td>Daiwa ETF TOPIX</td>\n",
       "      <td>NaN</td>\n",
       "      <td>Daiwa Asset Management Co Ltd</td>\n",
       "      <td>4.010000e+12</td>\n",
       "      <td>NaN</td>\n",
       "      <td>1.84</td>\n",
       "      <td>Exchange Traded Fund</td>\n",
       "      <td>Blend</td>\n",
       "      <td>Large</td>\n",
       "      <td>...</td>\n",
       "      <td>0.59</td>\n",
       "      <td>NaN</td>\n",
       "      <td>0.60</td>\n",
       "      <td>NaN</td>\n",
       "      <td>3.92</td>\n",
       "      <td>NaN</td>\n",
       "      <td>8.01</td>\n",
       "      <td>NaN</td>\n",
       "      <td>9.29</td>\n",
       "      <td>NaN</td>\n",
       "    </tr>\n",
       "    <tr>\n",
       "      <td>1</td>\n",
       "      <td>1306</td>\n",
       "      <td>Nomura TOPIX ETF</td>\n",
       "      <td>NaN</td>\n",
       "      <td>Nomura Asset Management Co Ltd</td>\n",
       "      <td>8.430000e+12</td>\n",
       "      <td>NaN</td>\n",
       "      <td>1.77</td>\n",
       "      <td>Exchange Traded Fund</td>\n",
       "      <td>Blend</td>\n",
       "      <td>Large</td>\n",
       "      <td>...</td>\n",
       "      <td>0.59</td>\n",
       "      <td>NaN</td>\n",
       "      <td>0.61</td>\n",
       "      <td>NaN</td>\n",
       "      <td>3.94</td>\n",
       "      <td>NaN</td>\n",
       "      <td>8.03</td>\n",
       "      <td>NaN</td>\n",
       "      <td>9.33</td>\n",
       "      <td>NaN</td>\n",
       "    </tr>\n",
       "    <tr>\n",
       "      <td>2</td>\n",
       "      <td>1308</td>\n",
       "      <td>Nikko Exchange Traded Index TOPIX</td>\n",
       "      <td>NaN</td>\n",
       "      <td>Nikko Asset Management Co Ltd</td>\n",
       "      <td>3.730000e+12</td>\n",
       "      <td>NaN</td>\n",
       "      <td>1.84</td>\n",
       "      <td>Exchange Traded Fund</td>\n",
       "      <td>Blend</td>\n",
       "      <td>Large</td>\n",
       "      <td>...</td>\n",
       "      <td>0.59</td>\n",
       "      <td>NaN</td>\n",
       "      <td>0.60</td>\n",
       "      <td>NaN</td>\n",
       "      <td>3.93</td>\n",
       "      <td>NaN</td>\n",
       "      <td>8.03</td>\n",
       "      <td>NaN</td>\n",
       "      <td>9.31</td>\n",
       "      <td>NaN</td>\n",
       "    </tr>\n",
       "    <tr>\n",
       "      <td>3</td>\n",
       "      <td>1309</td>\n",
       "      <td>Nomura SSE50 Index Link ETF</td>\n",
       "      <td>NaN</td>\n",
       "      <td>Nomura Asset Management Co Ltd</td>\n",
       "      <td>4.450000e+09</td>\n",
       "      <td>NaN</td>\n",
       "      <td>0.00</td>\n",
       "      <td>Exchange Traded Fund</td>\n",
       "      <td>Value</td>\n",
       "      <td>Large</td>\n",
       "      <td>...</td>\n",
       "      <td>0.36</td>\n",
       "      <td>NaN</td>\n",
       "      <td>0.26</td>\n",
       "      <td>NaN</td>\n",
       "      <td>-4.41</td>\n",
       "      <td>NaN</td>\n",
       "      <td>6.32</td>\n",
       "      <td>NaN</td>\n",
       "      <td>4.29</td>\n",
       "      <td>NaN</td>\n",
       "    </tr>\n",
       "    <tr>\n",
       "      <td>4</td>\n",
       "      <td>1310</td>\n",
       "      <td>Daiwa ETF TOPIX Core 30</td>\n",
       "      <td>NaN</td>\n",
       "      <td>Daiwa Asset Management Co Ltd</td>\n",
       "      <td>1.920000e+09</td>\n",
       "      <td>NaN</td>\n",
       "      <td>2.57</td>\n",
       "      <td>Exchange Traded Fund</td>\n",
       "      <td>Blend</td>\n",
       "      <td>Large</td>\n",
       "      <td>...</td>\n",
       "      <td>0.34</td>\n",
       "      <td>NaN</td>\n",
       "      <td>0.44</td>\n",
       "      <td>NaN</td>\n",
       "      <td>1</td>\n",
       "      <td>NaN</td>\n",
       "      <td>4.08</td>\n",
       "      <td>NaN</td>\n",
       "      <td>6.18</td>\n",
       "      <td>NaN</td>\n",
       "    </tr>\n",
       "  </tbody>\n",
       "</table>\n",
       "<p>5 rows × 104 columns</p>\n",
       "</div>"
      ],
      "text/plain": [
       "  fund_name                 fund_extended_name category  \\\n",
       "0      1305                    Daiwa ETF TOPIX      NaN   \n",
       "1      1306                   Nomura TOPIX ETF      NaN   \n",
       "2      1308  Nikko Exchange Traded Index TOPIX      NaN   \n",
       "3      1309        Nomura SSE50 Index Link ETF      NaN   \n",
       "4      1310            Daiwa ETF TOPIX Core 30      NaN   \n",
       "\n",
       "                      fund_family    net_assets  ytd_return  fund_yield  \\\n",
       "0   Daiwa Asset Management Co Ltd  4.010000e+12         NaN        1.84   \n",
       "1  Nomura Asset Management Co Ltd  8.430000e+12         NaN        1.77   \n",
       "2   Nikko Asset Management Co Ltd  3.730000e+12         NaN        1.84   \n",
       "3  Nomura Asset Management Co Ltd  4.450000e+09         NaN        0.00   \n",
       "4   Daiwa Asset Management Co Ltd  1.920000e+09         NaN        2.57   \n",
       "\n",
       "             legal_type investment   size  ... fund_sharpe_ratio_5years  \\\n",
       "0  Exchange Traded Fund      Blend  Large  ...                     0.59   \n",
       "1  Exchange Traded Fund      Blend  Large  ...                     0.59   \n",
       "2  Exchange Traded Fund      Blend  Large  ...                     0.59   \n",
       "3  Exchange Traded Fund      Value  Large  ...                     0.36   \n",
       "4  Exchange Traded Fund      Blend  Large  ...                     0.34   \n",
       "\n",
       "   category_sharpe_ratio_5years  fund_sharpe_ratio_10years  \\\n",
       "0                           NaN                       0.60   \n",
       "1                           NaN                       0.61   \n",
       "2                           NaN                       0.60   \n",
       "3                           NaN                       0.26   \n",
       "4                           NaN                       0.44   \n",
       "\n",
       "   category_sharpe_ratio_10years  fund_treynor_ratio_3years  \\\n",
       "0                            NaN                       3.92   \n",
       "1                            NaN                       3.94   \n",
       "2                            NaN                       3.93   \n",
       "3                            NaN                      -4.41   \n",
       "4                            NaN                          1   \n",
       "\n",
       "   category_treynor_ratio_3years  fund_treynor_ratio_5years  \\\n",
       "0                            NaN                       8.01   \n",
       "1                            NaN                       8.03   \n",
       "2                            NaN                       8.03   \n",
       "3                            NaN                       6.32   \n",
       "4                            NaN                       4.08   \n",
       "\n",
       "   category_treynor_ratio_5years  fund_treynor_ratio_10years  \\\n",
       "0                            NaN                        9.29   \n",
       "1                            NaN                        9.33   \n",
       "2                            NaN                        9.31   \n",
       "3                            NaN                        4.29   \n",
       "4                            NaN                        6.18   \n",
       "\n",
       "   category_treynor_ratio_10years  \n",
       "0                             NaN  \n",
       "1                             NaN  \n",
       "2                             NaN  \n",
       "3                             NaN  \n",
       "4                             NaN  \n",
       "\n",
       "[5 rows x 104 columns]"
      ]
     },
     "execution_count": 3,
     "metadata": {
     },
     "output_type": "execute_result"
    }
   ],
   "source": [
    "df = pd.read_csv(\"ETFs+MFs.csv\", index_col = 0) \n",
    "df.head()"
   ]
  },
  {
   "cell_type": "code",
   "execution_count": 4,
   "metadata": {
    "collapsed": false
   },
   "outputs": [
   ],
   "source": [
    "min_col = df.columns.get_loc('basic_materials')\n",
    "max_col = df.columns.get_loc('technology')"
   ]
  },
  {
   "cell_type": "code",
   "execution_count": 5,
   "metadata": {
    "collapsed": false
   },
   "outputs": [
    {
     "name": "stdout",
     "output_type": "stream",
     "text": [
      "0        industrials\n",
      "1        industrials\n",
      "2        industrials\n",
      "3        industrials\n",
      "4         technology\n",
      "            ...     \n",
      "25303    industrials\n",
      "25304     technology\n",
      "25305     technology\n",
      "25306     technology\n",
      "25307     technology\n",
      "Name: max_sector, Length: 27660, dtype: object\n"
     ]
    }
   ],
   "source": [
    "df['max_sector'] = df.iloc[:, min_col:max_col+1].idxmax(axis=1)\n",
    "print(df['max_sector'])"
   ]
  },
  {
   "cell_type": "code",
   "execution_count": 29,
   "metadata": {
    "collapsed": false
   },
   "outputs": [
   ],
   "source": [
    "sectors = df['max_sector'].unique()\n",
    "sizes = df['size'].unique()\n",
    "\n",
    "sectors = sectors[~pd.isnull(sectors)]\n",
    "sizes = sizes[~pd.isnull(sizes)]\n"
   ]
  },
  {
   "cell_type": "code",
   "execution_count": 30,
   "metadata": {
    "collapsed": false
   },
   "outputs": [
   ],
   "source": [
    "m = []\n",
    "\n",
    "for sector in sectors:\n",
    "    s = []\n",
    "    for size in sizes:\n",
    "        s.append(len(df.loc[ (df['max_sector'] == sector) & (df['size'] == size)  ]))\n",
    "    m.append(s)\n",
    "\n"
   ]
  },
  {
   "cell_type": "code",
   "execution_count": 31,
   "metadata": {
    "collapsed": false
   },
   "outputs": [
    {
     "name": "stdout",
     "output_type": "stream",
     "text": [
      "[[407, 543, 483], [6376, 1120, 489], [479, 373, 206], [5021, 668, 631], [1113, 2807, 1152], [290, 215, 250], [388, 512, 58], [619, 122, 146], [404, 17, 27], [57, 10, 5], [233, 71, 67]]\n"
     ]
    }
   ],
   "source": [
    "print (m)"
   ]
  },
  {
   "cell_type": "code",
   "execution_count": 34,
   "metadata": {
    "collapsed": false,
    "scrolled": true
   },
   "outputs": [
    {
     "name": "stderr",
     "output_type": "stream",
     "text": [
      "WARNING: Some output was deleted.\n"
     ]
    }
   ],
   "source": [
    "fig = go.Figure(data=go.Heatmap(z=m))\n"
   ]
  },
  {
   "cell_type": "code",
   "execution_count": 0,
   "metadata": {
    "collapsed": false
   },
   "outputs": [
   ],
   "source": [
    "fig.show()"
   ]
  }
 ],
 "metadata": {
  "kernelspec": {
   "display_name": "Python 3 (system-wide)",
   "language": "python",
   "metadata": {
    "cocalc": {
     "description": "Python 3 programming language",
     "priority": 100,
     "url": "https://www.python.org/"
    }
   },
   "name": "python3"
  },
  "language_info": {
   "codemirror_mode": {
    "name": "ipython",
    "version": 3
   },
   "file_extension": ".py",
   "mimetype": "text/x-python",
   "name": "python",
   "nbconvert_exporter": "python",
   "pygments_lexer": "ipython3",
   "version": "3.6.8"
  }
 },
 "nbformat": 4,
 "nbformat_minor": 0
}